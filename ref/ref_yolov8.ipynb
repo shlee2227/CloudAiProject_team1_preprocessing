{
 "cells": [
  {
   "cell_type": "code",
   "execution_count": 1,
   "metadata": {},
   "outputs": [],
   "source": [
    "from IPython.display import clear_output\n",
    "clear_output()"
   ]
  },
  {
   "cell_type": "code",
   "execution_count": 2,
   "metadata": {},
   "outputs": [],
   "source": [
    "%pip install pandas numpy matplotlib seaborn scikit-learn tensorflow\n",
    "clear_output()"
   ]
  },
  {
   "cell_type": "code",
   "execution_count": 3,
   "metadata": {
    "scrolled": true
   },
   "outputs": [],
   "source": [
    "%pip install torch torchvision\n",
    "clear_output()"
   ]
  },
  {
   "cell_type": "code",
   "execution_count": 4,
   "metadata": {},
   "outputs": [],
   "source": [
    "%pip install opencv-python\n",
    "clear_output()"
   ]
  },
  {
   "cell_type": "code",
   "execution_count": 5,
   "metadata": {},
   "outputs": [],
   "source": [
    "import cv2\n",
    "cap = cv2.VideoCapture(0)\n",
    "while True:\n",
    "    ret, frame = cap.read()\n",
    "    cv2.imshow('video', frame)\n",
    "    if cv2.waitKey(1) & 0xFF == ord('q'):\n",
    "        break\n",
    "cap.release()\n",
    "cv2.destroyAllWindows()"
   ]
  },
  {
   "cell_type": "code",
   "execution_count": 6,
   "metadata": {},
   "outputs": [],
   "source": [
    "from ultralytics import YOLO\n",
    "custom_weights = \"ref_weight.pt\"\n",
    "model = YOLO(f\"{custom_weights}\")\n",
    "\n",
    "def predict(path):\n",
    "  result = model.predict(source=path, save=False, stream=True,\n",
    "                       conf=0.6, iou=0.01, imgsz=320, vid_stride=6)\n",
    "  return result"
   ]
  },
  {
   "cell_type": "code",
   "execution_count": 7,
   "metadata": {
    "scrolled": true
   },
   "outputs": [
    {
     "name": "stderr",
     "output_type": "stream",
     "text": [
      "Ultralytics YOLOv8.0.20 🚀 Python-3.10.4 torch-2.3.0 CPU\n",
      "Model summary (fused): 168 layers, 11126358 parameters, 0 gradients, 28.4 GFLOPs\n"
     ]
    },
    {
     "data": {
      "text/plain": [
       "{'x1': 0, 'y1': 98, 'class': 0}"
      ]
     },
     "metadata": {},
     "output_type": "display_data"
    },
    {
     "data": {
      "text/plain": [
       "{'x1': 0, 'y1': 84, 'class': 0}"
      ]
     },
     "metadata": {},
     "output_type": "display_data"
    },
    {
     "data": {
      "text/plain": [
       "{'x1': 1, 'y1': 64, 'class': 0}"
      ]
     },
     "metadata": {},
     "output_type": "display_data"
    },
    {
     "data": {
      "text/plain": [
       "{'x1': 1, 'y1': 75, 'class': 0}"
      ]
     },
     "metadata": {},
     "output_type": "display_data"
    },
    {
     "data": {
      "text/plain": [
       "{'x1': 0, 'y1': 94, 'class': 0}"
      ]
     },
     "metadata": {},
     "output_type": "display_data"
    },
    {
     "data": {
      "text/plain": [
       "{'x1': 1, 'y1': 76, 'class': 0}"
      ]
     },
     "metadata": {},
     "output_type": "display_data"
    },
    {
     "data": {
      "text/plain": [
       "{'x1': 1, 'y1': 81, 'class': 0}"
      ]
     },
     "metadata": {},
     "output_type": "display_data"
    },
    {
     "data": {
      "text/plain": [
       "{'x1': 1, 'y1': 100, 'class': 0}"
      ]
     },
     "metadata": {},
     "output_type": "display_data"
    },
    {
     "data": {
      "text/plain": [
       "{'x1': 1, 'y1': 79, 'class': 0}"
      ]
     },
     "metadata": {},
     "output_type": "display_data"
    },
    {
     "data": {
      "text/plain": [
       "{'x1': 1, 'y1': 78, 'class': 0}"
      ]
     },
     "metadata": {},
     "output_type": "display_data"
    },
    {
     "data": {
      "text/plain": [
       "{'x1': 1, 'y1': 74, 'class': 0}"
      ]
     },
     "metadata": {},
     "output_type": "display_data"
    },
    {
     "data": {
      "text/plain": [
       "{'x1': 1, 'y1': 75, 'class': 0}"
      ]
     },
     "metadata": {},
     "output_type": "display_data"
    },
    {
     "data": {
      "text/plain": [
       "{'x1': 1, 'y1': 73, 'class': 0}"
      ]
     },
     "metadata": {},
     "output_type": "display_data"
    },
    {
     "data": {
      "text/plain": [
       "{'x1': 0, 'y1': 75, 'class': 0}"
      ]
     },
     "metadata": {},
     "output_type": "display_data"
    },
    {
     "data": {
      "text/plain": [
       "{'x1': 1, 'y1': 95, 'class': 0}"
      ]
     },
     "metadata": {},
     "output_type": "display_data"
    },
    {
     "data": {
      "text/plain": [
       "{'x1': 0, 'y1': 90, 'class': 0}"
      ]
     },
     "metadata": {},
     "output_type": "display_data"
    },
    {
     "data": {
      "text/plain": [
       "{'x1': 0, 'y1': 96, 'class': 0}"
      ]
     },
     "metadata": {},
     "output_type": "display_data"
    },
    {
     "data": {
      "text/plain": [
       "{'x1': 0, 'y1': 86, 'class': 0}"
      ]
     },
     "metadata": {},
     "output_type": "display_data"
    },
    {
     "data": {
      "text/plain": [
       "{'x1': 0, 'y1': 83, 'class': 0}"
      ]
     },
     "metadata": {},
     "output_type": "display_data"
    },
    {
     "data": {
      "text/plain": [
       "{'x1': 0, 'y1': 82, 'class': 0}"
      ]
     },
     "metadata": {},
     "output_type": "display_data"
    },
    {
     "data": {
      "text/plain": [
       "{'x1': 0, 'y1': 74, 'class': 0}"
      ]
     },
     "metadata": {},
     "output_type": "display_data"
    },
    {
     "data": {
      "text/plain": [
       "{'x1': 0, 'y1': 92, 'class': 0}"
      ]
     },
     "metadata": {},
     "output_type": "display_data"
    },
    {
     "data": {
      "text/plain": [
       "{'x1': 0, 'y1': 73, 'class': 0}"
      ]
     },
     "metadata": {},
     "output_type": "display_data"
    },
    {
     "data": {
      "text/plain": [
       "{'x1': 0, 'y1': 88, 'class': 0}"
      ]
     },
     "metadata": {},
     "output_type": "display_data"
    },
    {
     "data": {
      "text/plain": [
       "{'x1': 0, 'y1': 69, 'class': 0}"
      ]
     },
     "metadata": {},
     "output_type": "display_data"
    },
    {
     "data": {
      "text/plain": [
       "{'x1': 0, 'y1': 65, 'class': 0}"
      ]
     },
     "metadata": {},
     "output_type": "display_data"
    },
    {
     "data": {
      "text/plain": [
       "{'x1': 0, 'y1': 63, 'class': 0}"
      ]
     },
     "metadata": {},
     "output_type": "display_data"
    },
    {
     "data": {
      "text/plain": [
       "{'x1': 0, 'y1': 65, 'class': 0}"
      ]
     },
     "metadata": {},
     "output_type": "display_data"
    },
    {
     "data": {
      "text/plain": [
       "{'x1': 0, 'y1': 61, 'class': 0}"
      ]
     },
     "metadata": {},
     "output_type": "display_data"
    },
    {
     "data": {
      "text/plain": [
       "{'x1': 0, 'y1': 65, 'class': 0}"
      ]
     },
     "metadata": {},
     "output_type": "display_data"
    },
    {
     "data": {
      "text/plain": [
       "{'x1': 0, 'y1': 58, 'class': 0}"
      ]
     },
     "metadata": {},
     "output_type": "display_data"
    },
    {
     "data": {
      "text/plain": [
       "{'x1': 0, 'y1': 90, 'class': 0}"
      ]
     },
     "metadata": {},
     "output_type": "display_data"
    },
    {
     "data": {
      "text/plain": [
       "{'x1': 0, 'y1': 90, 'class': 0}"
      ]
     },
     "metadata": {},
     "output_type": "display_data"
    },
    {
     "data": {
      "text/plain": [
       "{'x1': 0, 'y1': 88, 'class': 0}"
      ]
     },
     "metadata": {},
     "output_type": "display_data"
    },
    {
     "data": {
      "text/plain": [
       "{'x1': 0, 'y1': 91, 'class': 0}"
      ]
     },
     "metadata": {},
     "output_type": "display_data"
    },
    {
     "data": {
      "text/plain": [
       "{'x1': 0, 'y1': 91, 'class': 0}"
      ]
     },
     "metadata": {},
     "output_type": "display_data"
    },
    {
     "data": {
      "text/plain": [
       "{'x1': 0, 'y1': 88, 'class': 0}"
      ]
     },
     "metadata": {},
     "output_type": "display_data"
    },
    {
     "data": {
      "text/plain": [
       "{'x1': 0, 'y1': 61, 'class': 0}"
      ]
     },
     "metadata": {},
     "output_type": "display_data"
    },
    {
     "data": {
      "text/plain": [
       "{'x1': 0, 'y1': 48, 'class': 0}"
      ]
     },
     "metadata": {},
     "output_type": "display_data"
    },
    {
     "data": {
      "text/plain": [
       "{'x1': 0, 'y1': 66, 'class': 0}"
      ]
     },
     "metadata": {},
     "output_type": "display_data"
    },
    {
     "data": {
      "text/plain": [
       "{'x1': 0, 'y1': 73, 'class': 0}"
      ]
     },
     "metadata": {},
     "output_type": "display_data"
    },
    {
     "data": {
      "text/plain": [
       "{'x1': 0, 'y1': 75, 'class': 0}"
      ]
     },
     "metadata": {},
     "output_type": "display_data"
    },
    {
     "data": {
      "text/plain": [
       "{'x1': 0, 'y1': 57, 'class': 0}"
      ]
     },
     "metadata": {},
     "output_type": "display_data"
    },
    {
     "data": {
      "text/plain": [
       "{'x1': 0, 'y1': 60, 'class': 0}"
      ]
     },
     "metadata": {},
     "output_type": "display_data"
    },
    {
     "data": {
      "text/plain": [
       "{'x1': 0, 'y1': 69, 'class': 0}"
      ]
     },
     "metadata": {},
     "output_type": "display_data"
    },
    {
     "data": {
      "text/plain": [
       "{'x1': 0, 'y1': 49, 'class': 0}"
      ]
     },
     "metadata": {},
     "output_type": "display_data"
    },
    {
     "data": {
      "text/plain": [
       "{'x1': 0, 'y1': 69, 'class': 0}"
      ]
     },
     "metadata": {},
     "output_type": "display_data"
    },
    {
     "data": {
      "text/plain": [
       "{'x1': 0, 'y1': 54, 'class': 0}"
      ]
     },
     "metadata": {},
     "output_type": "display_data"
    },
    {
     "data": {
      "text/plain": [
       "{'x1': 0, 'y1': 36, 'class': 0}"
      ]
     },
     "metadata": {},
     "output_type": "display_data"
    },
    {
     "data": {
      "text/plain": [
       "{'x1': 0, 'y1': 44, 'class': 0}"
      ]
     },
     "metadata": {},
     "output_type": "display_data"
    },
    {
     "data": {
      "text/plain": [
       "{'x1': 0, 'y1': 36, 'class': 0}"
      ]
     },
     "metadata": {},
     "output_type": "display_data"
    },
    {
     "data": {
      "text/plain": [
       "{'x1': 0, 'y1': 46, 'class': 0}"
      ]
     },
     "metadata": {},
     "output_type": "display_data"
    },
    {
     "data": {
      "text/plain": [
       "{'x1': 0, 'y1': 56, 'class': 0}"
      ]
     },
     "metadata": {},
     "output_type": "display_data"
    },
    {
     "data": {
      "text/plain": [
       "{'x1': 0, 'y1': 52, 'class': 0}"
      ]
     },
     "metadata": {},
     "output_type": "display_data"
    },
    {
     "data": {
      "text/plain": [
       "{'x1': 0, 'y1': 37, 'class': 0}"
      ]
     },
     "metadata": {},
     "output_type": "display_data"
    },
    {
     "data": {
      "text/plain": [
       "{'x1': 0, 'y1': 25, 'class': 0}"
      ]
     },
     "metadata": {},
     "output_type": "display_data"
    },
    {
     "data": {
      "text/plain": [
       "{'x1': 0, 'y1': 30, 'class': 0}"
      ]
     },
     "metadata": {},
     "output_type": "display_data"
    },
    {
     "data": {
      "text/plain": [
       "{'x1': 0, 'y1': 31, 'class': 0}"
      ]
     },
     "metadata": {},
     "output_type": "display_data"
    },
    {
     "data": {
      "text/plain": [
       "{'x1': 0, 'y1': 24, 'class': 0}"
      ]
     },
     "metadata": {},
     "output_type": "display_data"
    },
    {
     "data": {
      "text/plain": [
       "{'x1': 0, 'y1': 24, 'class': 0}"
      ]
     },
     "metadata": {},
     "output_type": "display_data"
    },
    {
     "data": {
      "text/plain": [
       "{'x1': 0, 'y1': 36, 'class': 0}"
      ]
     },
     "metadata": {},
     "output_type": "display_data"
    },
    {
     "data": {
      "text/plain": [
       "{'x1': 0, 'y1': 27, 'class': 0}"
      ]
     },
     "metadata": {},
     "output_type": "display_data"
    },
    {
     "data": {
      "text/plain": [
       "{'x1': 0, 'y1': 23, 'class': 0}"
      ]
     },
     "metadata": {},
     "output_type": "display_data"
    },
    {
     "data": {
      "text/plain": [
       "{'x1': 0, 'y1': 36, 'class': 0}"
      ]
     },
     "metadata": {},
     "output_type": "display_data"
    },
    {
     "data": {
      "text/plain": [
       "{'x1': 0, 'y1': 35, 'class': 0}"
      ]
     },
     "metadata": {},
     "output_type": "display_data"
    },
    {
     "data": {
      "text/plain": [
       "{'x1': 0, 'y1': 45, 'class': 0}"
      ]
     },
     "metadata": {},
     "output_type": "display_data"
    },
    {
     "data": {
      "text/plain": [
       "{'x1': 0, 'y1': 34, 'class': 0}"
      ]
     },
     "metadata": {},
     "output_type": "display_data"
    },
    {
     "data": {
      "text/plain": [
       "{'x1': 0, 'y1': 41, 'class': 0}"
      ]
     },
     "metadata": {},
     "output_type": "display_data"
    },
    {
     "data": {
      "text/plain": [
       "{'x1': 0, 'y1': 22, 'class': 0}"
      ]
     },
     "metadata": {},
     "output_type": "display_data"
    },
    {
     "data": {
      "text/plain": [
       "{'x1': 0, 'y1': 25, 'class': 0}"
      ]
     },
     "metadata": {},
     "output_type": "display_data"
    },
    {
     "data": {
      "text/plain": [
       "{'x1': 0, 'y1': 45, 'class': 0}"
      ]
     },
     "metadata": {},
     "output_type": "display_data"
    },
    {
     "data": {
      "text/plain": [
       "{'x1': 1, 'y1': 21, 'class': 0}"
      ]
     },
     "metadata": {},
     "output_type": "display_data"
    },
    {
     "data": {
      "text/plain": [
       "{'x1': 0, 'y1': 45, 'class': 0}"
      ]
     },
     "metadata": {},
     "output_type": "display_data"
    },
    {
     "data": {
      "text/plain": [
       "{'x1': 0, 'y1': 90, 'class': 0}"
      ]
     },
     "metadata": {},
     "output_type": "display_data"
    },
    {
     "data": {
      "text/plain": [
       "{'x1': 1, 'y1': 31, 'class': 0}"
      ]
     },
     "metadata": {},
     "output_type": "display_data"
    },
    {
     "data": {
      "text/plain": [
       "{'x1': 0, 'y1': 59, 'class': 0}"
      ]
     },
     "metadata": {},
     "output_type": "display_data"
    },
    {
     "data": {
      "text/plain": [
       "{'x1': 0, 'y1': 41, 'class': 0}"
      ]
     },
     "metadata": {},
     "output_type": "display_data"
    },
    {
     "data": {
      "text/plain": [
       "{'x1': 0, 'y1': 29, 'class': 0}"
      ]
     },
     "metadata": {},
     "output_type": "display_data"
    },
    {
     "data": {
      "text/plain": [
       "{'x1': 0, 'y1': 18, 'class': 0}"
      ]
     },
     "metadata": {},
     "output_type": "display_data"
    },
    {
     "data": {
      "text/plain": [
       "{'x1': 0, 'y1': 48, 'class': 0}"
      ]
     },
     "metadata": {},
     "output_type": "display_data"
    },
    {
     "data": {
      "text/plain": [
       "{'x1': 0, 'y1': 50, 'class': 0}"
      ]
     },
     "metadata": {},
     "output_type": "display_data"
    },
    {
     "data": {
      "text/plain": [
       "{'x1': 0, 'y1': 51, 'class': 0}"
      ]
     },
     "metadata": {},
     "output_type": "display_data"
    },
    {
     "data": {
      "text/plain": [
       "{'x1': 0, 'y1': 64, 'class': 0}"
      ]
     },
     "metadata": {},
     "output_type": "display_data"
    },
    {
     "data": {
      "text/plain": [
       "{'x1': 0, 'y1': 60, 'class': 0}"
      ]
     },
     "metadata": {},
     "output_type": "display_data"
    }
   ],
   "source": [
    "import cv2\n",
    "\n",
    "\n",
    "# 웹캠 비디오 스트림을 엽니다.\n",
    "cap = cv2.VideoCapture(0)  # 0은 기본 웹캠을 나타냅니다. 다른 카메라를 사용하려면 숫자를 바꿀 수 있습니다.\n",
    "cap.set(3, 240)\n",
    "cap.set(4, 320)\n",
    "cap.set(cv2.CAP_PROP_POS_FRAMES, 10)\n",
    "\n",
    "colors = [(0, 255, 0), (255, 0, 255)] \n",
    "results = []\n",
    "\n",
    "while True:\n",
    "    ret, frame = cap.read()  # 프레임 읽기\n",
    "\n",
    "    if not ret:\n",
    "        break\n",
    "\n",
    "    # YOLOv5 모델을 사용하여 객체 탐지 실행\n",
    "    img_results = model(frame)\n",
    "\n",
    "    # 결과에서 바운딩 박스를 얻어옵니다.\n",
    "    if len(img_results[0]):\n",
    "        xyxyes = img_results[0][0].boxes.xyxy\n",
    "        confs = img_results[0][0].boxes.conf\n",
    "        clses = img_results[0][0].boxes.cls\n",
    "\n",
    "        # 바운딩 박스와 클래스를 프레임에 그립니다.\n",
    "        for idx in range(len(clses)):\n",
    "            x1, y1, x2, y2,  = xyxyes[idx].cpu().numpy()\n",
    "            conf = confs[idx].cpu().numpy()\n",
    "            cls = int(clses[idx].cpu().numpy())\n",
    "\n",
    "            x1, y1, x2, y2 = int(x1), int(y1), int(x2), int(y2)\n",
    "            color = colors[cls]\n",
    "            cv2.rectangle(frame, (x1, y1), (x2, y2), color, 2)\n",
    "            cv2.putText(frame, f'Class {cls}: {conf:.2f}', (x1, y1 - 10),\n",
    "                        cv2.FONT_HERSHEY_SIMPLEX, 0.5, color, 2)          \n",
    "            result = {'x1':x1, 'y1':y1, 'class':cls}\n",
    "            display(result)\n",
    "            results.append(result)\n",
    "        \n",
    "    # 화면에 프레임 표시\n",
    "    cv2.imshow('Object Detection', frame)\n",
    "\n",
    "    if cv2.waitKey(1) & 0xFF == ord('q'):\n",
    "        break\n",
    "\n",
    "cap.release()\n",
    "cv2.destroyAllWindows()\n"
   ]
  },
  {
   "cell_type": "code",
   "execution_count": 12,
   "metadata": {
    "scrolled": true
   },
   "outputs": [
    {
     "data": {
      "text/plain": [
       "{'x1': 81, 'y1': 225, 'class': 0}"
      ]
     },
     "metadata": {},
     "output_type": "display_data"
    },
    {
     "data": {
      "text/plain": [
       "{'x1': 69, 'y1': 225, 'class': 0}"
      ]
     },
     "metadata": {},
     "output_type": "display_data"
    },
    {
     "data": {
      "text/plain": [
       "{'x1': 59, 'y1': 226, 'class': 0}"
      ]
     },
     "metadata": {},
     "output_type": "display_data"
    },
    {
     "data": {
      "text/plain": [
       "{'x1': 52, 'y1': 226, 'class': 0}"
      ]
     },
     "metadata": {},
     "output_type": "display_data"
    },
    {
     "data": {
      "text/plain": [
       "{'x1': 47, 'y1': 225, 'class': 0}"
      ]
     },
     "metadata": {},
     "output_type": "display_data"
    },
    {
     "data": {
      "text/plain": [
       "{'x1': 41, 'y1': 225, 'class': 0}"
      ]
     },
     "metadata": {},
     "output_type": "display_data"
    },
    {
     "data": {
      "text/plain": [
       "{'x1': 29, 'y1': 226, 'class': 0}"
      ]
     },
     "metadata": {},
     "output_type": "display_data"
    },
    {
     "data": {
      "text/plain": [
       "{'x1': 19, 'y1': 225, 'class': 0}"
      ]
     },
     "metadata": {},
     "output_type": "display_data"
    },
    {
     "data": {
      "text/plain": [
       "{'x1': 6, 'y1': 225, 'class': 0}"
      ]
     },
     "metadata": {},
     "output_type": "display_data"
    },
    {
     "data": {
      "text/plain": [
       "{'x1': 1, 'y1': 226, 'class': 0}"
      ]
     },
     "metadata": {},
     "output_type": "display_data"
    },
    {
     "data": {
      "text/plain": [
       "{'x1': 0, 'y1': 225, 'class': 0}"
      ]
     },
     "metadata": {},
     "output_type": "display_data"
    },
    {
     "data": {
      "text/plain": [
       "{'x1': 0, 'y1': 225, 'class': 0}"
      ]
     },
     "metadata": {},
     "output_type": "display_data"
    },
    {
     "data": {
      "text/plain": [
       "{'x1': 0, 'y1': 226, 'class': 0}"
      ]
     },
     "metadata": {},
     "output_type": "display_data"
    },
    {
     "data": {
      "text/plain": [
       "{'x1': 0, 'y1': 226, 'class': 0}"
      ]
     },
     "metadata": {},
     "output_type": "display_data"
    },
    {
     "data": {
      "text/plain": [
       "{'x1': 0, 'y1': 225, 'class': 0}"
      ]
     },
     "metadata": {},
     "output_type": "display_data"
    },
    {
     "data": {
      "text/plain": [
       "{'x1': 0, 'y1': 226, 'class': 0}"
      ]
     },
     "metadata": {},
     "output_type": "display_data"
    },
    {
     "data": {
      "text/plain": [
       "{'x1': 0, 'y1': 225, 'class': 0}"
      ]
     },
     "metadata": {},
     "output_type": "display_data"
    },
    {
     "data": {
      "text/plain": [
       "{'x1': 4, 'y1': 225, 'class': 0}"
      ]
     },
     "metadata": {},
     "output_type": "display_data"
    },
    {
     "data": {
      "text/plain": [
       "{'x1': 390, 'y1': 238, 'class': 0}"
      ]
     },
     "metadata": {},
     "output_type": "display_data"
    },
    {
     "data": {
      "text/plain": [
       "{'x1': 379, 'y1': 238, 'class': 0}"
      ]
     },
     "metadata": {},
     "output_type": "display_data"
    },
    {
     "data": {
      "text/plain": [
       "{'x1': 364, 'y1': 237, 'class': 0}"
      ]
     },
     "metadata": {},
     "output_type": "display_data"
    },
    {
     "data": {
      "text/plain": [
       "{'x1': 354, 'y1': 237, 'class': 0}"
      ]
     },
     "metadata": {},
     "output_type": "display_data"
    },
    {
     "data": {
      "text/plain": [
       "{'x1': 0, 'y1': 224, 'class': 0}"
      ]
     },
     "metadata": {},
     "output_type": "display_data"
    },
    {
     "data": {
      "text/plain": [
       "{'x1': 806, 'y1': 239, 'class': 1}"
      ]
     },
     "metadata": {},
     "output_type": "display_data"
    },
    {
     "data": {
      "text/plain": [
       "{'x1': 0, 'y1': 223, 'class': 0}"
      ]
     },
     "metadata": {},
     "output_type": "display_data"
    },
    {
     "data": {
      "text/plain": [
       "{'x1': 325, 'y1': 239, 'class': 0}"
      ]
     },
     "metadata": {},
     "output_type": "display_data"
    },
    {
     "data": {
      "text/plain": [
       "{'x1': 309, 'y1': 237, 'class': 0}"
      ]
     },
     "metadata": {},
     "output_type": "display_data"
    },
    {
     "data": {
      "text/plain": [
       "{'x1': 304, 'y1': 238, 'class': 0}"
      ]
     },
     "metadata": {},
     "output_type": "display_data"
    },
    {
     "data": {
      "text/plain": [
       "{'x1': 758, 'y1': 239, 'class': 1}"
      ]
     },
     "metadata": {},
     "output_type": "display_data"
    },
    {
     "data": {
      "text/plain": [
       "{'x1': 293, 'y1': 236, 'class': 0}"
      ]
     },
     "metadata": {},
     "output_type": "display_data"
    },
    {
     "data": {
      "text/plain": [
       "{'x1': 284, 'y1': 238, 'class': 0}"
      ]
     },
     "metadata": {},
     "output_type": "display_data"
    },
    {
     "data": {
      "text/plain": [
       "{'x1': 268, 'y1': 239, 'class': 0}"
      ]
     },
     "metadata": {},
     "output_type": "display_data"
    },
    {
     "data": {
      "text/plain": [
       "{'x1': 258, 'y1': 236, 'class': 0}"
      ]
     },
     "metadata": {},
     "output_type": "display_data"
    },
    {
     "data": {
      "text/plain": [
       "{'x1': 253, 'y1': 238, 'class': 0}"
      ]
     },
     "metadata": {},
     "output_type": "display_data"
    },
    {
     "data": {
      "text/plain": [
       "{'x1': 248, 'y1': 238, 'class': 0}"
      ]
     },
     "metadata": {},
     "output_type": "display_data"
    },
    {
     "data": {
      "text/plain": [
       "{'x1': 700, 'y1': 240, 'class': 0}"
      ]
     },
     "metadata": {},
     "output_type": "display_data"
    },
    {
     "data": {
      "text/plain": [
       "{'x1': 232, 'y1': 238, 'class': 0}"
      ]
     },
     "metadata": {},
     "output_type": "display_data"
    },
    {
     "data": {
      "text/plain": [
       "{'x1': 683, 'y1': 239, 'class': 0}"
      ]
     },
     "metadata": {},
     "output_type": "display_data"
    },
    {
     "data": {
      "text/plain": [
       "{'x1': 207, 'y1': 237, 'class': 0}"
      ]
     },
     "metadata": {},
     "output_type": "display_data"
    },
    {
     "data": {
      "text/plain": [
       "{'x1': 201, 'y1': 238, 'class': 0}"
      ]
     },
     "metadata": {},
     "output_type": "display_data"
    },
    {
     "data": {
      "text/plain": [
       "{'x1': 197, 'y1': 237, 'class': 0}"
      ]
     },
     "metadata": {},
     "output_type": "display_data"
    },
    {
     "data": {
      "text/plain": [
       "{'x1': 191, 'y1': 238, 'class': 0}"
      ]
     },
     "metadata": {},
     "output_type": "display_data"
    },
    {
     "data": {
      "text/plain": [
       "{'x1': 179, 'y1': 238, 'class': 0}"
      ]
     },
     "metadata": {},
     "output_type": "display_data"
    },
    {
     "data": {
      "text/plain": [
       "{'x1': 162, 'y1': 237, 'class': 0}"
      ]
     },
     "metadata": {},
     "output_type": "display_data"
    },
    {
     "data": {
      "text/plain": [
       "{'x1': 621, 'y1': 240, 'class': 0}"
      ]
     },
     "metadata": {},
     "output_type": "display_data"
    },
    {
     "data": {
      "text/plain": [
       "{'x1': 609, 'y1': 242, 'class': 0}"
      ]
     },
     "metadata": {},
     "output_type": "display_data"
    },
    {
     "data": {
      "text/plain": [
       "{'x1': 146, 'y1': 237, 'class': 0}"
      ]
     },
     "metadata": {},
     "output_type": "display_data"
    },
    {
     "data": {
      "text/plain": [
       "{'x1': 598, 'y1': 240, 'class': 0}"
      ]
     },
     "metadata": {},
     "output_type": "display_data"
    },
    {
     "data": {
      "text/plain": [
       "{'x1': 586, 'y1': 239, 'class': 0}"
      ]
     },
     "metadata": {},
     "output_type": "display_data"
    },
    {
     "data": {
      "text/plain": [
       "{'x1': 110, 'y1': 237, 'class': 0}"
      ]
     },
     "metadata": {},
     "output_type": "display_data"
    },
    {
     "data": {
      "text/plain": [
       "{'x1': 104, 'y1': 238, 'class': 0}"
      ]
     },
     "metadata": {},
     "output_type": "display_data"
    },
    {
     "data": {
      "text/plain": [
       "{'x1': 99, 'y1': 238, 'class': 0}"
      ]
     },
     "metadata": {},
     "output_type": "display_data"
    },
    {
     "data": {
      "text/plain": [
       "{'x1': 93, 'y1': 237, 'class': 0}"
      ]
     },
     "metadata": {},
     "output_type": "display_data"
    },
    {
     "data": {
      "text/plain": [
       "{'x1': 85, 'y1': 238, 'class': 0}"
      ]
     },
     "metadata": {},
     "output_type": "display_data"
    },
    {
     "data": {
      "text/plain": [
       "{'x1': 535, 'y1': 239, 'class': 0}"
      ]
     },
     "metadata": {},
     "output_type": "display_data"
    },
    {
     "data": {
      "text/plain": [
       "{'x1': 59, 'y1': 237, 'class': 0}"
      ]
     },
     "metadata": {},
     "output_type": "display_data"
    },
    {
     "data": {
      "text/plain": [
       "{'x1': 53, 'y1': 239, 'class': 0}"
      ]
     },
     "metadata": {},
     "output_type": "display_data"
    },
    {
     "data": {
      "text/plain": [
       "{'x1': 504, 'y1': 240, 'class': 1}"
      ]
     },
     "metadata": {},
     "output_type": "display_data"
    },
    {
     "data": {
      "text/plain": [
       "{'x1': 42, 'y1': 238, 'class': 0}"
      ]
     },
     "metadata": {},
     "output_type": "display_data"
    },
    {
     "data": {
      "text/plain": [
       "{'x1': 34, 'y1': 239, 'class': 0}"
      ]
     },
     "metadata": {},
     "output_type": "display_data"
    },
    {
     "data": {
      "text/plain": [
       "{'x1': 483, 'y1': 239, 'class': 0}"
      ]
     },
     "metadata": {},
     "output_type": "display_data"
    },
    {
     "data": {
      "text/plain": [
       "{'x1': 6, 'y1': 238, 'class': 0}"
      ]
     },
     "metadata": {},
     "output_type": "display_data"
    },
    {
     "data": {
      "text/plain": [
       "{'x1': 0, 'y1': 238, 'class': 0}"
      ]
     },
     "metadata": {},
     "output_type": "display_data"
    },
    {
     "data": {
      "text/plain": [
       "{'x1': 0, 'y1': 238, 'class': 0}"
      ]
     },
     "metadata": {},
     "output_type": "display_data"
    },
    {
     "data": {
      "text/plain": [
       "{'x1': 883, 'y1': 220, 'class': 0}"
      ]
     },
     "metadata": {},
     "output_type": "display_data"
    },
    {
     "data": {
      "text/plain": [
       "{'x1': 0, 'y1': 238, 'class': 0}"
      ]
     },
     "metadata": {},
     "output_type": "display_data"
    },
    {
     "data": {
      "text/plain": [
       "{'x1': 865, 'y1': 224, 'class': 0}"
      ]
     },
     "metadata": {},
     "output_type": "display_data"
    },
    {
     "data": {
      "text/plain": [
       "{'x1': 421, 'y1': 240, 'class': 0}"
      ]
     },
     "metadata": {},
     "output_type": "display_data"
    },
    {
     "data": {
      "text/plain": [
       "{'x1': 407, 'y1': 240, 'class': 0}"
      ]
     },
     "metadata": {},
     "output_type": "display_data"
    },
    {
     "data": {
      "text/plain": [
       "{'x1': 844, 'y1': 226, 'class': 0}"
      ]
     },
     "metadata": {},
     "output_type": "display_data"
    },
    {
     "data": {
      "text/plain": [
       "{'x1': 832, 'y1': 227, 'class': 0}"
      ]
     },
     "metadata": {},
     "output_type": "display_data"
    },
    {
     "data": {
      "text/plain": [
       "{'x1': 386, 'y1': 239, 'class': 0}"
      ]
     },
     "metadata": {},
     "output_type": "display_data"
    },
    {
     "data": {
      "text/plain": [
       "{'x1': 379, 'y1': 239, 'class': 0}"
      ]
     },
     "metadata": {},
     "output_type": "display_data"
    },
    {
     "data": {
      "text/plain": [
       "{'x1': 368, 'y1': 240, 'class': 0}"
      ]
     },
     "metadata": {},
     "output_type": "display_data"
    },
    {
     "data": {
      "text/plain": [
       "{'x1': 0, 'y1': 240, 'class': 0}"
      ]
     },
     "metadata": {},
     "output_type": "display_data"
    },
    {
     "data": {
      "text/plain": [
       "{'x1': 787, 'y1': 228, 'class': 0}"
      ]
     },
     "metadata": {},
     "output_type": "display_data"
    },
    {
     "data": {
      "text/plain": [
       "{'x1': 773, 'y1': 228, 'class': 0}"
      ]
     },
     "metadata": {},
     "output_type": "display_data"
    },
    {
     "data": {
      "text/plain": [
       "{'x1': 766, 'y1': 229, 'class': 0}"
      ]
     },
     "metadata": {},
     "output_type": "display_data"
    },
    {
     "data": {
      "text/plain": [
       "{'x1': 757, 'y1': 228, 'class': 0}"
      ]
     },
     "metadata": {},
     "output_type": "display_data"
    },
    {
     "data": {
      "text/plain": [
       "{'x1': 749, 'y1': 229, 'class': 0}"
      ]
     },
     "metadata": {},
     "output_type": "display_data"
    },
    {
     "data": {
      "text/plain": [
       "{'x1': 744, 'y1': 229, 'class': 0}"
      ]
     },
     "metadata": {},
     "output_type": "display_data"
    },
    {
     "data": {
      "text/plain": [
       "{'x1': 734, 'y1': 228, 'class': 0}"
      ]
     },
     "metadata": {},
     "output_type": "display_data"
    },
    {
     "data": {
      "text/plain": [
       "{'x1': 722, 'y1': 228, 'class': 0}"
      ]
     },
     "metadata": {},
     "output_type": "display_data"
    },
    {
     "data": {
      "text/plain": [
       "{'x1': 714, 'y1': 228, 'class': 0}"
      ]
     },
     "metadata": {},
     "output_type": "display_data"
    },
    {
     "data": {
      "text/plain": [
       "{'x1': 702, 'y1': 228, 'class': 0}"
      ]
     },
     "metadata": {},
     "output_type": "display_data"
    },
    {
     "data": {
      "text/plain": [
       "{'x1': 695, 'y1': 228, 'class': 0}"
      ]
     },
     "metadata": {},
     "output_type": "display_data"
    },
    {
     "data": {
      "text/plain": [
       "{'x1': 692, 'y1': 228, 'class': 0}"
      ]
     },
     "metadata": {},
     "output_type": "display_data"
    },
    {
     "data": {
      "text/plain": [
       "{'x1': 685, 'y1': 229, 'class': 0}"
      ]
     },
     "metadata": {},
     "output_type": "display_data"
    },
    {
     "data": {
      "text/plain": [
       "{'x1': 666, 'y1': 228, 'class': 0}"
      ]
     },
     "metadata": {},
     "output_type": "display_data"
    },
    {
     "data": {
      "text/plain": [
       "{'x1': 659, 'y1': 227, 'class': 0}"
      ]
     },
     "metadata": {},
     "output_type": "display_data"
    },
    {
     "data": {
      "text/plain": [
       "{'x1': 652, 'y1': 227, 'class': 0}"
      ]
     },
     "metadata": {},
     "output_type": "display_data"
    },
    {
     "data": {
      "text/plain": [
       "{'x1': 644, 'y1': 228, 'class': 0}"
      ]
     },
     "metadata": {},
     "output_type": "display_data"
    },
    {
     "data": {
      "text/plain": [
       "{'x1': 643, 'y1': 228, 'class': 0}"
      ]
     },
     "metadata": {},
     "output_type": "display_data"
    },
    {
     "data": {
      "text/plain": [
       "{'x1': 631, 'y1': 228, 'class': 0}"
      ]
     },
     "metadata": {},
     "output_type": "display_data"
    },
    {
     "data": {
      "text/plain": [
       "{'x1': 613, 'y1': 229, 'class': 0}"
      ]
     },
     "metadata": {},
     "output_type": "display_data"
    },
    {
     "data": {
      "text/plain": [
       "{'x1': 608, 'y1': 228, 'class': 0}"
      ]
     },
     "metadata": {},
     "output_type": "display_data"
    },
    {
     "data": {
      "text/plain": [
       "{'x1': 601, 'y1': 227, 'class': 0}"
      ]
     },
     "metadata": {},
     "output_type": "display_data"
    },
    {
     "data": {
      "text/plain": [
       "{'x1': 594, 'y1': 229, 'class': 0}"
      ]
     },
     "metadata": {},
     "output_type": "display_data"
    },
    {
     "data": {
      "text/plain": [
       "{'x1': 586, 'y1': 228, 'class': 0}"
      ]
     },
     "metadata": {},
     "output_type": "display_data"
    },
    {
     "data": {
      "text/plain": [
       "{'x1': 576, 'y1': 227, 'class': 0}"
      ]
     },
     "metadata": {},
     "output_type": "display_data"
    },
    {
     "data": {
      "text/plain": [
       "{'x1': 567, 'y1': 229, 'class': 0}"
      ]
     },
     "metadata": {},
     "output_type": "display_data"
    },
    {
     "data": {
      "text/plain": [
       "{'x1': 554, 'y1': 227, 'class': 0}"
      ]
     },
     "metadata": {},
     "output_type": "display_data"
    },
    {
     "data": {
      "text/plain": [
       "{'x1': 549, 'y1': 227, 'class': 0}"
      ]
     },
     "metadata": {},
     "output_type": "display_data"
    },
    {
     "data": {
      "text/plain": [
       "{'x1': 544, 'y1': 228, 'class': 0}"
      ]
     },
     "metadata": {},
     "output_type": "display_data"
    },
    {
     "data": {
      "text/plain": [
       "{'x1': 534, 'y1': 228, 'class': 0}"
      ]
     },
     "metadata": {},
     "output_type": "display_data"
    },
    {
     "data": {
      "text/plain": [
       "{'x1': 523, 'y1': 228, 'class': 0}"
      ]
     },
     "metadata": {},
     "output_type": "display_data"
    },
    {
     "data": {
      "text/plain": [
       "{'x1': 514, 'y1': 228, 'class': 0}"
      ]
     },
     "metadata": {},
     "output_type": "display_data"
    },
    {
     "data": {
      "text/plain": [
       "{'x1': 501, 'y1': 228, 'class': 0}"
      ]
     },
     "metadata": {},
     "output_type": "display_data"
    },
    {
     "data": {
      "text/plain": [
       "{'x1': 496, 'y1': 228, 'class': 0}"
      ]
     },
     "metadata": {},
     "output_type": "display_data"
    },
    {
     "data": {
      "text/plain": [
       "{'x1': 493, 'y1': 228, 'class': 0}"
      ]
     },
     "metadata": {},
     "output_type": "display_data"
    },
    {
     "data": {
      "text/plain": [
       "{'x1': 483, 'y1': 228, 'class': 0}"
      ]
     },
     "metadata": {},
     "output_type": "display_data"
    },
    {
     "data": {
      "text/plain": [
       "{'x1': 466, 'y1': 227, 'class': 0}"
      ]
     },
     "metadata": {},
     "output_type": "display_data"
    },
    {
     "data": {
      "text/plain": [
       "{'x1': 459, 'y1': 227, 'class': 0}"
      ]
     },
     "metadata": {},
     "output_type": "display_data"
    },
    {
     "data": {
      "text/plain": [
       "{'x1': 453, 'y1': 228, 'class': 0}"
      ]
     },
     "metadata": {},
     "output_type": "display_data"
    },
    {
     "data": {
      "text/plain": [
       "{'x1': 444, 'y1': 228, 'class': 0}"
      ]
     },
     "metadata": {},
     "output_type": "display_data"
    },
    {
     "data": {
      "text/plain": [
       "{'x1': 442, 'y1': 228, 'class': 0}"
      ]
     },
     "metadata": {},
     "output_type": "display_data"
    },
    {
     "data": {
      "text/plain": [
       "{'x1': 430, 'y1': 228, 'class': 0}"
      ]
     },
     "metadata": {},
     "output_type": "display_data"
    },
    {
     "data": {
      "text/plain": [
       "{'x1': 414, 'y1': 228, 'class': 0}"
      ]
     },
     "metadata": {},
     "output_type": "display_data"
    },
    {
     "data": {
      "text/plain": [
       "{'x1': 409, 'y1': 227, 'class': 0}"
      ]
     },
     "metadata": {},
     "output_type": "display_data"
    },
    {
     "data": {
      "text/plain": [
       "{'x1': 401, 'y1': 227, 'class': 0}"
      ]
     },
     "metadata": {},
     "output_type": "display_data"
    },
    {
     "data": {
      "text/plain": [
       "{'x1': 392, 'y1': 229, 'class': 0}"
      ]
     },
     "metadata": {},
     "output_type": "display_data"
    },
    {
     "data": {
      "text/plain": [
       "{'x1': 387, 'y1': 228, 'class': 0}"
      ]
     },
     "metadata": {},
     "output_type": "display_data"
    },
    {
     "data": {
      "text/plain": [
       "{'x1': 377, 'y1': 227, 'class': 0}"
      ]
     },
     "metadata": {},
     "output_type": "display_data"
    },
    {
     "data": {
      "text/plain": [
       "{'x1': 366, 'y1': 229, 'class': 0}"
      ]
     },
     "metadata": {},
     "output_type": "display_data"
    },
    {
     "data": {
      "text/plain": [
       "{'x1': 354, 'y1': 227, 'class': 0}"
      ]
     },
     "metadata": {},
     "output_type": "display_data"
    },
    {
     "data": {
      "text/plain": [
       "{'x1': 349, 'y1': 227, 'class': 0}"
      ]
     },
     "metadata": {},
     "output_type": "display_data"
    },
    {
     "data": {
      "text/plain": [
       "{'x1': 344, 'y1': 229, 'class': 0}"
      ]
     },
     "metadata": {},
     "output_type": "display_data"
    },
    {
     "data": {
      "text/plain": [
       "{'x1': 335, 'y1': 228, 'class': 0}"
      ]
     },
     "metadata": {},
     "output_type": "display_data"
    },
    {
     "data": {
      "text/plain": [
       "{'x1': 799, 'y1': 226, 'class': 0}"
      ]
     },
     "metadata": {},
     "output_type": "display_data"
    },
    {
     "data": {
      "text/plain": [
       "{'x1': 791, 'y1': 226, 'class': 0}"
      ]
     },
     "metadata": {},
     "output_type": "display_data"
    },
    {
     "data": {
      "text/plain": [
       "{'x1': 782, 'y1': 224, 'class': 0}"
      ]
     },
     "metadata": {},
     "output_type": "display_data"
    },
    {
     "data": {
      "text/plain": [
       "{'x1': 774, 'y1': 225, 'class': 0}"
      ]
     },
     "metadata": {},
     "output_type": "display_data"
    },
    {
     "data": {
      "text/plain": [
       "{'x1': 761, 'y1': 225, 'class': 0}"
      ]
     },
     "metadata": {},
     "output_type": "display_data"
    },
    {
     "data": {
      "text/plain": [
       "{'x1': 753, 'y1': 225, 'class': 0}"
      ]
     },
     "metadata": {},
     "output_type": "display_data"
    },
    {
     "data": {
      "text/plain": [
       "{'x1': 748, 'y1': 225, 'class': 0}"
      ]
     },
     "metadata": {},
     "output_type": "display_data"
    },
    {
     "data": {
      "text/plain": [
       "{'x1': 740, 'y1': 226, 'class': 0}"
      ]
     },
     "metadata": {},
     "output_type": "display_data"
    },
    {
     "data": {
      "text/plain": [
       "{'x1': 732, 'y1': 224, 'class': 0}"
      ]
     },
     "metadata": {},
     "output_type": "display_data"
    },
    {
     "data": {
      "text/plain": [
       "{'x1': 719, 'y1': 224, 'class': 0}"
      ]
     },
     "metadata": {},
     "output_type": "display_data"
    },
    {
     "data": {
      "text/plain": [
       "{'x1': 241, 'y1': 227, 'class': 0}"
      ]
     },
     "metadata": {},
     "output_type": "display_data"
    },
    {
     "data": {
      "text/plain": [
       "{'x1': 231, 'y1': 228, 'class': 0}"
      ]
     },
     "metadata": {},
     "output_type": "display_data"
    },
    {
     "data": {
      "text/plain": [
       "{'x1': 697, 'y1': 225, 'class': 0}"
      ]
     },
     "metadata": {},
     "output_type": "display_data"
    },
    {
     "data": {
      "text/plain": [
       "{'x1': 209, 'y1': 227, 'class': 0}"
      ]
     },
     "metadata": {},
     "output_type": "display_data"
    },
    {
     "data": {
      "text/plain": [
       "{'x1': 678, 'y1': 224, 'class': 0}"
      ]
     },
     "metadata": {},
     "output_type": "display_data"
    },
    {
     "data": {
      "text/plain": [
       "{'x1': 666, 'y1': 224, 'class': 0}"
      ]
     },
     "metadata": {},
     "output_type": "display_data"
    },
    {
     "data": {
      "text/plain": [
       "{'x1': 657, 'y1': 225, 'class': 0}"
      ]
     },
     "metadata": {},
     "output_type": "display_data"
    },
    {
     "data": {
      "text/plain": [
       "{'x1': 650, 'y1': 225, 'class': 0}"
      ]
     },
     "metadata": {},
     "output_type": "display_data"
    },
    {
     "data": {
      "text/plain": [
       "{'x1': 645, 'y1': 225, 'class': 0}"
      ]
     },
     "metadata": {},
     "output_type": "display_data"
    },
    {
     "data": {
      "text/plain": [
       "{'x1': 636, 'y1': 225, 'class': 0}"
      ]
     },
     "metadata": {},
     "output_type": "display_data"
    },
    {
     "data": {
      "text/plain": [
       "{'x1': 625, 'y1': 225, 'class': 0}"
      ]
     },
     "metadata": {},
     "output_type": "display_data"
    },
    {
     "data": {
      "text/plain": [
       "{'x1': 614, 'y1': 225, 'class': 0}"
      ]
     },
     "metadata": {},
     "output_type": "display_data"
    },
    {
     "data": {
      "text/plain": [
       "{'x1': 136, 'y1': 228, 'class': 0}"
      ]
     },
     "metadata": {},
     "output_type": "display_data"
    },
    {
     "data": {
      "text/plain": [
       "{'x1': 599, 'y1': 226, 'class': 0}"
      ]
     },
     "metadata": {},
     "output_type": "display_data"
    },
    {
     "data": {
      "text/plain": [
       "{'x1': 592, 'y1': 225, 'class': 0}"
      ]
     },
     "metadata": {},
     "output_type": "display_data"
    },
    {
     "data": {
      "text/plain": [
       "{'x1': 102, 'y1': 228, 'class': 0}"
      ]
     },
     "metadata": {},
     "output_type": "display_data"
    },
    {
     "data": {
      "text/plain": [
       "{'x1': 574, 'y1': 224, 'class': 0}"
      ]
     },
     "metadata": {},
     "output_type": "display_data"
    },
    {
     "data": {
      "text/plain": [
       "{'x1': 560, 'y1': 225, 'class': 0}"
      ]
     },
     "metadata": {},
     "output_type": "display_data"
    },
    {
     "data": {
      "text/plain": [
       "{'x1': 83, 'y1': 229, 'class': 0}"
      ]
     },
     "metadata": {},
     "output_type": "display_data"
    },
    {
     "data": {
      "text/plain": [
       "{'x1': 549, 'y1': 225, 'class': 0}"
      ]
     },
     "metadata": {},
     "output_type": "display_data"
    },
    {
     "data": {
      "text/plain": [
       "{'x1': 541, 'y1': 225, 'class': 0}"
      ]
     },
     "metadata": {},
     "output_type": "display_data"
    },
    {
     "data": {
      "text/plain": [
       "{'x1': 531, 'y1': 224, 'class': 0}"
      ]
     },
     "metadata": {},
     "output_type": "display_data"
    },
    {
     "data": {
      "text/plain": [
       "{'x1': 519, 'y1': 224, 'class': 0}"
      ]
     },
     "metadata": {},
     "output_type": "display_data"
    },
    {
     "data": {
      "text/plain": [
       "{'x1': 44, 'y1': 227, 'class': 0}"
      ]
     },
     "metadata": {},
     "output_type": "display_data"
    }
   ],
   "source": [
    "# 동영상 파일 \n",
    "\n",
    "file_path = '/Users/leeshinhee/Documents/newdeal/project/CloudAiProject_team1_preprocessing/ref/test/test5.mp4'\n",
    "\n",
    "cap = cv2.VideoCapture(file_path)\n",
    "cap.set(3, 240)\n",
    "cap.set(4, 320)\n",
    "\n",
    "colors = [(0, 255, 0), (255, 0, 255)] \n",
    "results = []\n",
    "\n",
    "while True:\n",
    "    ret, frame = cap.read()  # 프레임 읽기\n",
    "\n",
    "    if not ret:\n",
    "        break\n",
    "\n",
    "    # YOLOv5 모델을 사용하여 객체 탐지 실행\n",
    "    img_results = model(frame)\n",
    "\n",
    "    # 결과에서 바운딩 박스를 얻어옵니다.\n",
    "    if len(img_results[0]):\n",
    "        xyxyes = img_results[0][0].boxes.xyxy\n",
    "        confs = img_results[0][0].boxes.conf\n",
    "        clses = img_results[0][0].boxes.cls\n",
    "\n",
    "        # 바운딩 박스와 클래스를 프레임에 그립니다.\n",
    "        for idx in range(len(clses)):\n",
    "            x1, y1, x2, y2,  = xyxyes[idx].cpu().numpy()\n",
    "            conf = confs[idx].cpu().numpy()\n",
    "            cls = int(clses[idx].cpu().numpy())\n",
    "\n",
    "            x1, y1, x2, y2 = int(x1), int(y1), int(x2), int(y2)\n",
    "            color = colors[cls]\n",
    "            cv2.rectangle(frame, (x1, y1), (x2, y2), color, 2)\n",
    "            cv2.putText(frame, f'Class {cls}: {conf:.2f}', (x1, y1 - 10),\n",
    "                        cv2.FONT_HERSHEY_SIMPLEX, 0.5, color, 2)          \n",
    "            result = {'x1':x1, 'y1':y1, 'class':cls}\n",
    "            display(result)\n",
    "            results.append(result)\n",
    "            \n",
    "    # 화면에 프레임 표시\n",
    "    cv2.imshow('Object Detection', frame)\n",
    "\n",
    "    if cv2.waitKey(1) & 0xFF == ord('q'):\n",
    "        break\n",
    "\n",
    "cap.release()\n",
    "cv2.destroyAllWindows()"
   ]
  },
  {
   "cell_type": "code",
   "execution_count": 8,
   "metadata": {
    "scrolled": true
   },
   "outputs": [
    {
     "data": {
      "text/plain": [
       "[{'x1': 0, 'y1': 98, 'class': 0},\n",
       " {'x1': 0, 'y1': 84, 'class': 0},\n",
       " {'x1': 1, 'y1': 64, 'class': 0},\n",
       " {'x1': 1, 'y1': 75, 'class': 0},\n",
       " {'x1': 0, 'y1': 94, 'class': 0},\n",
       " {'x1': 1, 'y1': 76, 'class': 0},\n",
       " {'x1': 1, 'y1': 81, 'class': 0},\n",
       " {'x1': 1, 'y1': 100, 'class': 0},\n",
       " {'x1': 1, 'y1': 79, 'class': 0},\n",
       " {'x1': 1, 'y1': 78, 'class': 0},\n",
       " {'x1': 1, 'y1': 74, 'class': 0},\n",
       " {'x1': 1, 'y1': 75, 'class': 0},\n",
       " {'x1': 1, 'y1': 73, 'class': 0},\n",
       " {'x1': 0, 'y1': 75, 'class': 0},\n",
       " {'x1': 1, 'y1': 95, 'class': 0},\n",
       " {'x1': 0, 'y1': 90, 'class': 0},\n",
       " {'x1': 0, 'y1': 96, 'class': 0},\n",
       " {'x1': 0, 'y1': 86, 'class': 0},\n",
       " {'x1': 0, 'y1': 83, 'class': 0},\n",
       " {'x1': 0, 'y1': 82, 'class': 0},\n",
       " {'x1': 0, 'y1': 74, 'class': 0},\n",
       " {'x1': 0, 'y1': 92, 'class': 0},\n",
       " {'x1': 0, 'y1': 73, 'class': 0},\n",
       " {'x1': 0, 'y1': 88, 'class': 0},\n",
       " {'x1': 0, 'y1': 69, 'class': 0},\n",
       " {'x1': 0, 'y1': 65, 'class': 0},\n",
       " {'x1': 0, 'y1': 63, 'class': 0},\n",
       " {'x1': 0, 'y1': 65, 'class': 0},\n",
       " {'x1': 0, 'y1': 61, 'class': 0},\n",
       " {'x1': 0, 'y1': 65, 'class': 0},\n",
       " {'x1': 0, 'y1': 58, 'class': 0},\n",
       " {'x1': 0, 'y1': 90, 'class': 0},\n",
       " {'x1': 0, 'y1': 90, 'class': 0},\n",
       " {'x1': 0, 'y1': 88, 'class': 0},\n",
       " {'x1': 0, 'y1': 91, 'class': 0},\n",
       " {'x1': 0, 'y1': 91, 'class': 0},\n",
       " {'x1': 0, 'y1': 88, 'class': 0},\n",
       " {'x1': 0, 'y1': 61, 'class': 0},\n",
       " {'x1': 0, 'y1': 48, 'class': 0},\n",
       " {'x1': 0, 'y1': 66, 'class': 0},\n",
       " {'x1': 0, 'y1': 73, 'class': 0},\n",
       " {'x1': 0, 'y1': 75, 'class': 0},\n",
       " {'x1': 0, 'y1': 57, 'class': 0},\n",
       " {'x1': 0, 'y1': 60, 'class': 0},\n",
       " {'x1': 0, 'y1': 69, 'class': 0},\n",
       " {'x1': 0, 'y1': 49, 'class': 0},\n",
       " {'x1': 0, 'y1': 69, 'class': 0},\n",
       " {'x1': 0, 'y1': 54, 'class': 0},\n",
       " {'x1': 0, 'y1': 36, 'class': 0},\n",
       " {'x1': 0, 'y1': 44, 'class': 0},\n",
       " {'x1': 0, 'y1': 36, 'class': 0},\n",
       " {'x1': 0, 'y1': 46, 'class': 0},\n",
       " {'x1': 0, 'y1': 56, 'class': 0},\n",
       " {'x1': 0, 'y1': 52, 'class': 0},\n",
       " {'x1': 0, 'y1': 37, 'class': 0},\n",
       " {'x1': 0, 'y1': 25, 'class': 0},\n",
       " {'x1': 0, 'y1': 30, 'class': 0},\n",
       " {'x1': 0, 'y1': 31, 'class': 0},\n",
       " {'x1': 0, 'y1': 24, 'class': 0},\n",
       " {'x1': 0, 'y1': 24, 'class': 0},\n",
       " {'x1': 0, 'y1': 36, 'class': 0},\n",
       " {'x1': 0, 'y1': 27, 'class': 0},\n",
       " {'x1': 0, 'y1': 23, 'class': 0},\n",
       " {'x1': 0, 'y1': 36, 'class': 0},\n",
       " {'x1': 0, 'y1': 35, 'class': 0},\n",
       " {'x1': 0, 'y1': 45, 'class': 0},\n",
       " {'x1': 0, 'y1': 34, 'class': 0},\n",
       " {'x1': 0, 'y1': 41, 'class': 0},\n",
       " {'x1': 0, 'y1': 22, 'class': 0},\n",
       " {'x1': 0, 'y1': 25, 'class': 0},\n",
       " {'x1': 0, 'y1': 45, 'class': 0},\n",
       " {'x1': 1, 'y1': 21, 'class': 0},\n",
       " {'x1': 0, 'y1': 45, 'class': 0},\n",
       " {'x1': 0, 'y1': 90, 'class': 0},\n",
       " {'x1': 1, 'y1': 31, 'class': 0},\n",
       " {'x1': 0, 'y1': 59, 'class': 0},\n",
       " {'x1': 0, 'y1': 41, 'class': 0},\n",
       " {'x1': 0, 'y1': 29, 'class': 0},\n",
       " {'x1': 0, 'y1': 18, 'class': 0},\n",
       " {'x1': 0, 'y1': 48, 'class': 0},\n",
       " {'x1': 0, 'y1': 50, 'class': 0},\n",
       " {'x1': 0, 'y1': 51, 'class': 0},\n",
       " {'x1': 0, 'y1': 64, 'class': 0},\n",
       " {'x1': 0, 'y1': 60, 'class': 0}]"
      ]
     },
     "execution_count": 8,
     "metadata": {},
     "output_type": "execute_result"
    }
   ],
   "source": [
    "results"
   ]
  },
  {
   "cell_type": "code",
   "execution_count": null,
   "metadata": {},
   "outputs": [],
   "source": []
  }
 ],
 "metadata": {
  "kernelspec": {
   "display_name": "Python 3 (ipykernel)",
   "language": "python",
   "name": "python3"
  },
  "language_info": {
   "codemirror_mode": {
    "name": "ipython",
    "version": 3
   },
   "file_extension": ".py",
   "mimetype": "text/x-python",
   "name": "python",
   "nbconvert_exporter": "python",
   "pygments_lexer": "ipython3",
   "version": "3.10.4"
  }
 },
 "nbformat": 4,
 "nbformat_minor": 2
}
